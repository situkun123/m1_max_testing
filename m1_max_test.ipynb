{
 "cells": [
  {
   "cell_type": "code",
   "execution_count": 5,
   "id": "c1e48f06-24fd-4f73-9ac3-42a10b8ef161",
   "metadata": {},
   "outputs": [
    {
     "name": "stdout",
     "output_type": "stream",
     "text": [
      "TensorFlow version: 2.6.0\n",
      "Num GPUs Available:  1\n"
     ]
    }
   ],
   "source": [
    "# import tensorflow to see if GPU is connected\n",
    "import tensorflow as tf\n",
    "import tensorflow_datasets as tfds\n",
    "import os\n",
    "print(\"TensorFlow version:\", tf.__version__)\n",
    "print(\"Num GPUs Available: \", len(tf.config.experimental.list_physical_devices('GPU')))\n",
    "tf.config.list_physical_devices('GPU')\n",
    "data_dir = os.getcwd()"
   ]
  },
  {
   "cell_type": "code",
   "execution_count": 8,
   "id": "6dc102e0-e9e0-4850-8f08-3ac0d51d06f5",
   "metadata": {},
   "outputs": [],
   "source": [
    "# loading the MINIST data sets\n",
    "(ds_train, ds_test), ds_info = tfds.load(\n",
    "    'mnist',\n",
    "    split=['train', 'test'],\n",
    "    data_dir=data_dir,\n",
    "    shuffle_files=True,\n",
    "    as_supervised=True,\n",
    "    with_info=True,\n",
    ")"
   ]
  },
  {
   "cell_type": "code",
   "execution_count": 10,
   "id": "2302c0a5-ffee-40b2-bae8-dbe335dc25f1",
   "metadata": {},
   "outputs": [
    {
     "name": "stdout",
     "output_type": "stream",
     "text": [
      "WARNING:tensorflow:AutoGraph could not transform <function normalize_img at 0x14fb7ee50> and will run it as-is.\n",
      "Please report this to the TensorFlow team. When filing the bug, set the verbosity to 10 (on Linux, `export AUTOGRAPH_VERBOSITY=10`) and attach the full output.\n",
      "Cause: Unable to locate the source code of <function normalize_img at 0x14fb7ee50>. Note that functions defined in certain environments, like the interactive Python shell, do not expose their source code. If that is the case, you should define them in a .py source file. If you are certain the code is graph-compatible, wrap the call using @tf.autograph.experimental.do_not_convert. Original error: could not get source code\n",
      "To silence this warning, decorate the function with @tf.autograph.experimental.do_not_convert\n"
     ]
    },
    {
     "name": "stderr",
     "output_type": "stream",
     "text": [
      "WARNING:tensorflow:AutoGraph could not transform <function normalize_img at 0x14fb7ee50> and will run it as-is.\n",
      "Please report this to the TensorFlow team. When filing the bug, set the verbosity to 10 (on Linux, `export AUTOGRAPH_VERBOSITY=10`) and attach the full output.\n",
      "Cause: Unable to locate the source code of <function normalize_img at 0x14fb7ee50>. Note that functions defined in certain environments, like the interactive Python shell, do not expose their source code. If that is the case, you should define them in a .py source file. If you are certain the code is graph-compatible, wrap the call using @tf.autograph.experimental.do_not_convert. Original error: could not get source code\n",
      "To silence this warning, decorate the function with @tf.autograph.experimental.do_not_convert\n"
     ]
    },
    {
     "name": "stdout",
     "output_type": "stream",
     "text": [
      "WARNING: AutoGraph could not transform <function normalize_img at 0x14fb7ee50> and will run it as-is.\n",
      "Please report this to the TensorFlow team. When filing the bug, set the verbosity to 10 (on Linux, `export AUTOGRAPH_VERBOSITY=10`) and attach the full output.\n",
      "Cause: Unable to locate the source code of <function normalize_img at 0x14fb7ee50>. Note that functions defined in certain environments, like the interactive Python shell, do not expose their source code. If that is the case, you should define them in a .py source file. If you are certain the code is graph-compatible, wrap the call using @tf.autograph.experimental.do_not_convert. Original error: could not get source code\n",
      "To silence this warning, decorate the function with @tf.autograph.experimental.do_not_convert\n",
      "Epoch 1/12\n"
     ]
    },
    {
     "name": "stderr",
     "output_type": "stream",
     "text": [
      "2021-11-02 20:50:13.188461: I tensorflow/compiler/mlir/mlir_graph_optimization_pass.cc:185] None of the MLIR Optimization Passes are enabled (registered 2)\n",
      "2021-11-02 20:50:13.189455: W tensorflow/core/platform/profile_utils/cpu_utils.cc:128] Failed to get CPU frequency: 0 Hz\n",
      "2021-11-02 20:50:13.189527: I tensorflow/core/grappler/optimizers/custom_graph_optimizer_registry.cc:112] Plugin optimizer for device_type GPU is enabled.\n"
     ]
    },
    {
     "name": "stdout",
     "output_type": "stream",
     "text": [
      "466/469 [============================>.] - ETA: 0s - loss: 0.1603 - accuracy: 0.9525"
     ]
    },
    {
     "name": "stderr",
     "output_type": "stream",
     "text": [
      "2021-11-02 20:50:18.911902: I tensorflow/core/grappler/optimizers/custom_graph_optimizer_registry.cc:112] Plugin optimizer for device_type GPU is enabled.\n"
     ]
    },
    {
     "name": "stdout",
     "output_type": "stream",
     "text": [
      "469/469 [==============================] - 6s 11ms/step - loss: 0.1597 - accuracy: 0.9527 - val_loss: 0.0509 - val_accuracy: 0.9830\n",
      "Epoch 2/12\n",
      "469/469 [==============================] - 5s 11ms/step - loss: 0.0430 - accuracy: 0.9874 - val_loss: 0.0416 - val_accuracy: 0.9858\n",
      "Epoch 3/12\n",
      "469/469 [==============================] - 5s 11ms/step - loss: 0.0263 - accuracy: 0.9919 - val_loss: 0.0327 - val_accuracy: 0.9894\n",
      "Epoch 4/12\n",
      "469/469 [==============================] - 6s 12ms/step - loss: 0.0185 - accuracy: 0.9938 - val_loss: 0.0343 - val_accuracy: 0.9882\n",
      "Epoch 5/12\n",
      "469/469 [==============================] - 5s 11ms/step - loss: 0.0128 - accuracy: 0.9958 - val_loss: 0.0323 - val_accuracy: 0.9906\n",
      "Epoch 6/12\n",
      "469/469 [==============================] - 6s 12ms/step - loss: 0.0097 - accuracy: 0.9969 - val_loss: 0.0438 - val_accuracy: 0.9872\n",
      "Epoch 7/12\n",
      "469/469 [==============================] - 5s 11ms/step - loss: 0.0082 - accuracy: 0.9974 - val_loss: 0.0446 - val_accuracy: 0.9888\n",
      "Epoch 8/12\n",
      "469/469 [==============================] - 6s 12ms/step - loss: 0.0063 - accuracy: 0.9979 - val_loss: 0.0451 - val_accuracy: 0.9885\n",
      "Epoch 9/12\n",
      "469/469 [==============================] - 6s 12ms/step - loss: 0.0051 - accuracy: 0.9982 - val_loss: 0.0449 - val_accuracy: 0.9890\n",
      "Epoch 10/12\n",
      "469/469 [==============================] - 5s 12ms/step - loss: 0.0055 - accuracy: 0.9981 - val_loss: 0.0407 - val_accuracy: 0.9909\n",
      "Epoch 11/12\n",
      "469/469 [==============================] - 5s 12ms/step - loss: 0.0047 - accuracy: 0.9984 - val_loss: 0.0377 - val_accuracy: 0.9883\n",
      "Epoch 12/12\n",
      "469/469 [==============================] - 5s 11ms/step - loss: 0.0027 - accuracy: 0.9993 - val_loss: 0.0431 - val_accuracy: 0.9906\n",
      "CPU times: user 32.7 s, sys: 28.3 s, total: 1min\n",
      "Wall time: 1min 6s\n"
     ]
    },
    {
     "data": {
      "text/plain": [
       "<keras.callbacks.History at 0x17732c3a0>"
      ]
     },
     "execution_count": 10,
     "metadata": {},
     "output_type": "execute_result"
    }
   ],
   "source": [
    "%%time\n",
    "# runing the model to test the performance\n",
    "def normalize_img(image, label):\n",
    "    \"\"\"Normalizes images: `uint8` -> `float32`.\"\"\"\n",
    "    return tf.cast(image, tf.float32) / 255., label\n",
    "\n",
    "batch_size = 128\n",
    "ds_train = ds_train.map(\n",
    "    normalize_img, num_parallel_calls=tf.data.experimental.AUTOTUNE)\n",
    "ds_train = ds_train.cache()\n",
    "ds_train = ds_train.shuffle(ds_info.splits['train'].num_examples)\n",
    "ds_train = ds_train.batch(batch_size)\n",
    "ds_train = ds_train.prefetch(tf.data.experimental.AUTOTUNE)\n",
    "ds_test = ds_test.map(\n",
    "    normalize_img, num_parallel_calls=tf.data.experimental.AUTOTUNE)\n",
    "ds_test = ds_test.batch(batch_size)\n",
    "ds_test = ds_test.cache()\n",
    "ds_test = ds_test.prefetch(tf.data.experimental.AUTOTUNE)\n",
    "\n",
    "\n",
    "model = tf.keras.models.Sequential([\n",
    "  tf.keras.layers.Conv2D(32, kernel_size=(3, 3),\n",
    "                 activation='relu'),\n",
    "  tf.keras.layers.Conv2D(64, kernel_size=(3, 3),\n",
    "                 activation='relu'),\n",
    "  tf.keras.layers.MaxPooling2D(pool_size=(2, 2)),\n",
    "#   tf.keras.layers.Dropout(0.25),\n",
    "  tf.keras.layers.Flatten(),\n",
    "  tf.keras.layers.Dense(128, activation='relu'),\n",
    "#   tf.keras.layers.Dropout(0.5),\n",
    "  tf.keras.layers.Dense(10, activation='softmax')\n",
    "])\n",
    "\n",
    "model.compile(\n",
    "    loss='sparse_categorical_crossentropy',\n",
    "    optimizer=tf.keras.optimizers.Adam(0.001),\n",
    "    metrics=['accuracy'],\n",
    ")\n",
    "\n",
    "\n",
    "model.fit(\n",
    "    ds_train,\n",
    "    epochs=12,\n",
    "    validation_data=ds_test,\n",
    ")"
   ]
  },
  {
   "cell_type": "code",
   "execution_count": null,
   "id": "3a5cbf4d-6599-44e9-955b-cc6a60fb0978",
   "metadata": {},
   "outputs": [],
   "source": []
  }
 ],
 "metadata": {
  "kernelspec": {
   "display_name": "Python 3 (ipykernel)",
   "language": "python",
   "name": "python3"
  },
  "language_info": {
   "codemirror_mode": {
    "name": "ipython",
    "version": 3
   },
   "file_extension": ".py",
   "mimetype": "text/x-python",
   "name": "python",
   "nbconvert_exporter": "python",
   "pygments_lexer": "ipython3",
   "version": "3.9.2"
  }
 },
 "nbformat": 4,
 "nbformat_minor": 5
}
